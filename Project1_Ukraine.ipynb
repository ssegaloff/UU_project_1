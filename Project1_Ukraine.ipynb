{
 "cells": [
  {
   "cell_type": "markdown",
   "id": "c53b449d",
   "metadata": {},
   "source": [
    "# Project 1\n",
    "\n",
    "Due: 11/13/25"
   ]
  },
  {
   "cell_type": "markdown",
   "id": "c7dfba00",
   "metadata": {},
   "source": [
    "## Data Description"
   ]
  },
  {
   "cell_type": "markdown",
   "id": "f07522d8",
   "metadata": {},
   "source": [
    "Describe the data clearly -- particularly any missing data that might impact your analysis -- and the provenance of your dataset. Who collected the data and why? (10/100 pts)"
   ]
  },
  {
   "cell_type": "markdown",
   "id": "aeb1fb6b",
   "metadata": {},
   "source": [
    "## Phenomena"
   ]
  },
  {
   "cell_type": "markdown",
   "id": "4ff2961d",
   "metadata": {},
   "source": [
    "What phenomenon are you modeling? Provide a brief background on the topic, including definitions and details that are relevant to your analysis. Clearly describe its main features, and support those claims with data where appropriate. (10/100 pts)"
   ]
  },
  {
   "cell_type": "markdown",
   "id": "3d2c3cc1",
   "metadata": {},
   "source": [
    "## Describe Your Non-Parametric Model"
   ]
  },
  {
   "cell_type": "markdown",
   "id": "b90dc3e8",
   "metadata": {},
   "source": [
    "Describe your non-parametric model (empirical cumulative distribution functions, kernel density function, local constant least squares regression, Markov transition models). How are you fitting your model to the phenomenon to get realistic properties of the data? What challenges did you have to overcome? (15/100 pts)"
   ]
  },
  {
   "cell_type": "markdown",
   "id": "c75f144c",
   "metadata": {},
   "source": [
    "remember to cut the gordian knot. don't stay stuck."
   ]
  },
  {
   "cell_type": "markdown",
   "id": "0de5ca06",
   "metadata": {},
   "source": [
    "IDEA: markov chain. plot of civilian deaths?"
   ]
  },
  {
   "cell_type": "markdown",
   "id": "c6195541",
   "metadata": {},
   "source": [
    "## Use model/Bootstrap"
   ]
  },
  {
   "cell_type": "markdown",
   "id": "686503bd",
   "metadata": {},
   "source": [
    "Either use your model to create new sequences (if the model is more generative) or bootstrap a quantity of interest (if the model is more inferential). (15/100 pts)"
   ]
  },
  {
   "cell_type": "markdown",
   "id": "807e1f7e",
   "metadata": {},
   "source": [
    "## Critical Evaluation"
   ]
  },
  {
   "cell_type": "markdown",
   "id": "04069940",
   "metadata": {},
   "source": [
    "Critically evaluate your work in part 4. Do your sequences have the properties of the training data, and if not, why not? Are your estimates credible and reliable, or is there substantial uncertainty in your results? (15/100 pts)"
   ]
  },
  {
   "cell_type": "markdown",
   "id": "318701dd",
   "metadata": {},
   "source": [
    "## Conclusion"
   ]
  },
  {
   "cell_type": "markdown",
   "id": "717dabdb",
   "metadata": {},
   "source": [
    "Write a conclusion that explains the limitations of your analysis and potential for future work on this topic. (10/100 pts)"
   ]
  },
  {
   "cell_type": "markdown",
   "id": "1a04c15e",
   "metadata": {},
   "source": [
    "# Other\n",
    "\n",
    "In addition, submit a GitHub repo containing your code and a description of how to obtain the original data from the source. Make sure the code is commented, where appropriate. Include a .gitignore file. We will look at your commit history briefly to determine whether everyone in the group contributed. (10/100 pts)\n",
    "\n",
    "In class, we'll briefly do presentations and criticize each other's work, and participation in your group's presentation and constructively critiquing the other groups' presentations accounts for the remaining 15/100 pts."
   ]
  }
 ],
 "metadata": {
  "kernelspec": {
   "display_name": "ds5030",
   "language": "python",
   "name": "python3"
  },
  "language_info": {
   "name": "python",
   "version": "3.13.1"
  }
 },
 "nbformat": 4,
 "nbformat_minor": 5
}

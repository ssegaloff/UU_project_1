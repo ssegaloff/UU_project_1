{
 "cells": [
  {
   "cell_type": "markdown",
   "id": "c53b449d",
   "metadata": {},
   "source": [
    "# Project 1\n",
    "\n",
    "Due: 11/13/25"
   ]
  },
  {
   "cell_type": "code",
   "execution_count": 1,
   "id": "da6a5919",
   "metadata": {},
   "outputs": [],
   "source": [
    "import numpy as np\n",
    "import pandas as pd\n",
    "import matplotlib.pyplot as plt\n",
    "import seaborn as sns"
   ]
  },
  {
   "cell_type": "markdown",
   "id": "c7dfba00",
   "metadata": {},
   "source": [
    "## Data Description"
   ]
  },
  {
   "cell_type": "markdown",
   "id": "f07522d8",
   "metadata": {},
   "source": [
    "Describe the data clearly -- particularly any missing data that might impact your analysis -- and the provenance of your dataset. Who collected the data and why? (10/100 pts)"
   ]
  },
  {
   "cell_type": "code",
   "execution_count": 3,
   "id": "b0d5e9fa",
   "metadata": {},
   "outputs": [
    {
     "data": {
      "text/html": [
       "<div>\n",
       "<style scoped>\n",
       "    .dataframe tbody tr th:only-of-type {\n",
       "        vertical-align: middle;\n",
       "    }\n",
       "\n",
       "    .dataframe tbody tr th {\n",
       "        vertical-align: top;\n",
       "    }\n",
       "\n",
       "    .dataframe thead th {\n",
       "        text-align: right;\n",
       "    }\n",
       "</style>\n",
       "<table border=\"1\" class=\"dataframe\">\n",
       "  <thead>\n",
       "    <tr style=\"text-align: right;\">\n",
       "      <th></th>\n",
       "      <th>damage_id</th>\n",
       "      <th>iso3</th>\n",
       "      <th>country</th>\n",
       "      <th>gid_1</th>\n",
       "      <th>oblast</th>\n",
       "      <th>rayon</th>\n",
       "      <th>type_of_infrastructure</th>\n",
       "      <th>if_other_what</th>\n",
       "      <th>date_of_event</th>\n",
       "      <th>source_name</th>\n",
       "      <th>source_date</th>\n",
       "      <th>source_link</th>\n",
       "      <th>additional_sources</th>\n",
       "      <th>extent_of_damage</th>\n",
       "      <th>_internal_filter_date</th>\n",
       "      <th>_weights</th>\n",
       "      <th>access_subindicator</th>\n",
       "      <th>pcode</th>\n",
       "    </tr>\n",
       "  </thead>\n",
       "  <tbody>\n",
       "    <tr>\n",
       "      <th>0</th>\n",
       "      <td>D0011</td>\n",
       "      <td>UKR</td>\n",
       "      <td>Ukraine</td>\n",
       "      <td>['UKR.15_1']</td>\n",
       "      <td>Luhanska</td>\n",
       "      <td>Siverskodonetskyi</td>\n",
       "      <td>Warehouse</td>\n",
       "      <td>NaN</td>\n",
       "      <td>2022-03-25</td>\n",
       "      <td>OCHA</td>\n",
       "      <td>2022-03-28</td>\n",
       "      <td>https://reliefweb.int/report/ukraine/ukraine-h...</td>\n",
       "      <td>NaN</td>\n",
       "      <td>Destroyed</td>\n",
       "      <td>2022-03-25</td>\n",
       "      <td>0.7</td>\n",
       "      <td>['7.2']</td>\n",
       "      <td>UA44</td>\n",
       "    </tr>\n",
       "    <tr>\n",
       "      <th>1</th>\n",
       "      <td>D0012</td>\n",
       "      <td>UKR</td>\n",
       "      <td>Ukraine</td>\n",
       "      <td>['UKR.15_1']</td>\n",
       "      <td>Luhanska</td>\n",
       "      <td>Siverskodonetskyi</td>\n",
       "      <td>Warehouse</td>\n",
       "      <td>NaN</td>\n",
       "      <td>2022-03-26</td>\n",
       "      <td>OCHA</td>\n",
       "      <td>2022-03-28</td>\n",
       "      <td>https://reliefweb.int/report/ukraine/ukraine-h...</td>\n",
       "      <td>NaN</td>\n",
       "      <td>Partially damaged</td>\n",
       "      <td>2022-03-26</td>\n",
       "      <td>0.7</td>\n",
       "      <td>['7.2']</td>\n",
       "      <td>UA44</td>\n",
       "    </tr>\n",
       "    <tr>\n",
       "      <th>2</th>\n",
       "      <td>D0015</td>\n",
       "      <td>UKR</td>\n",
       "      <td>Ukraine</td>\n",
       "      <td>['UKR.14_1']</td>\n",
       "      <td>Lvivska</td>\n",
       "      <td>NaN</td>\n",
       "      <td>Warehouse</td>\n",
       "      <td>NaN</td>\n",
       "      <td>2022-03-26</td>\n",
       "      <td>OCHA</td>\n",
       "      <td>2022-03-28</td>\n",
       "      <td>https://reliefweb.int/report/ukraine/ukraine-h...</td>\n",
       "      <td>NaN</td>\n",
       "      <td>Unknown</td>\n",
       "      <td>2022-03-26</td>\n",
       "      <td>1.0</td>\n",
       "      <td>['7.2']</td>\n",
       "      <td>UA46</td>\n",
       "    </tr>\n",
       "    <tr>\n",
       "      <th>3</th>\n",
       "      <td>D0016</td>\n",
       "      <td>UKR</td>\n",
       "      <td>Ukraine</td>\n",
       "      <td>['UKR.14_1']</td>\n",
       "      <td>Lvivska</td>\n",
       "      <td>NaN</td>\n",
       "      <td>Aircraft repair plant</td>\n",
       "      <td>Aircraft repair plan</td>\n",
       "      <td>2022-03-26</td>\n",
       "      <td>OCHA</td>\n",
       "      <td>2022-03-28</td>\n",
       "      <td>https://reliefweb.int/report/ukraine/ukraine-h...</td>\n",
       "      <td>NaN</td>\n",
       "      <td>Destroyed</td>\n",
       "      <td>2022-03-26</td>\n",
       "      <td>1.0</td>\n",
       "      <td>['7.2']</td>\n",
       "      <td>UA46</td>\n",
       "    </tr>\n",
       "    <tr>\n",
       "      <th>4</th>\n",
       "      <td>D0017</td>\n",
       "      <td>UKR</td>\n",
       "      <td>Ukraine</td>\n",
       "      <td>['UKR.12_1']</td>\n",
       "      <td>Kyivska</td>\n",
       "      <td>NaN</td>\n",
       "      <td>Bridge</td>\n",
       "      <td>NaN</td>\n",
       "      <td>2022-03-22</td>\n",
       "      <td>OCHA</td>\n",
       "      <td>2022-03-28</td>\n",
       "      <td>https://reliefweb.int/report/ukraine/ukraine-h...</td>\n",
       "      <td>NaN</td>\n",
       "      <td>Destroyed</td>\n",
       "      <td>2022-03-22</td>\n",
       "      <td>1.0</td>\n",
       "      <td>['9.2']</td>\n",
       "      <td>UA32</td>\n",
       "    </tr>\n",
       "  </tbody>\n",
       "</table>\n",
       "</div>"
      ],
      "text/plain": [
       "  damage_id iso3  country         gid_1    oblast              rayon  \\\n",
       "0     D0011  UKR  Ukraine  ['UKR.15_1']  Luhanska  Siverskodonetskyi   \n",
       "1     D0012  UKR  Ukraine  ['UKR.15_1']  Luhanska  Siverskodonetskyi   \n",
       "2     D0015  UKR  Ukraine  ['UKR.14_1']   Lvivska                NaN   \n",
       "3     D0016  UKR  Ukraine  ['UKR.14_1']   Lvivska                NaN   \n",
       "4     D0017  UKR  Ukraine  ['UKR.12_1']   Kyivska                NaN   \n",
       "\n",
       "  type_of_infrastructure         if_other_what date_of_event source_name  \\\n",
       "0              Warehouse                   NaN    2022-03-25        OCHA   \n",
       "1              Warehouse                   NaN    2022-03-26        OCHA   \n",
       "2              Warehouse                   NaN    2022-03-26        OCHA   \n",
       "3  Aircraft repair plant  Aircraft repair plan    2022-03-26        OCHA   \n",
       "4                 Bridge                   NaN    2022-03-22        OCHA   \n",
       "\n",
       "  source_date                                        source_link  \\\n",
       "0  2022-03-28  https://reliefweb.int/report/ukraine/ukraine-h...   \n",
       "1  2022-03-28  https://reliefweb.int/report/ukraine/ukraine-h...   \n",
       "2  2022-03-28  https://reliefweb.int/report/ukraine/ukraine-h...   \n",
       "3  2022-03-28  https://reliefweb.int/report/ukraine/ukraine-h...   \n",
       "4  2022-03-28  https://reliefweb.int/report/ukraine/ukraine-h...   \n",
       "\n",
       "  additional_sources   extent_of_damage _internal_filter_date  _weights  \\\n",
       "0                NaN          Destroyed            2022-03-25       0.7   \n",
       "1                NaN  Partially damaged            2022-03-26       0.7   \n",
       "2                NaN            Unknown            2022-03-26       1.0   \n",
       "3                NaN          Destroyed            2022-03-26       1.0   \n",
       "4                NaN          Destroyed            2022-03-22       1.0   \n",
       "\n",
       "  access_subindicator pcode  \n",
       "0             ['7.2']  UA44  \n",
       "1             ['7.2']  UA44  \n",
       "2             ['7.2']  UA46  \n",
       "3             ['7.2']  UA46  \n",
       "4             ['9.2']  UA32  "
      ]
     },
     "execution_count": 3,
     "metadata": {},
     "output_type": "execute_result"
    }
   ],
   "source": [
    "ukraine = pd.read_csv('ukraine-damages.csv', sep='|', header=0)\n",
    "ukraine.head()"
   ]
  },
  {
   "cell_type": "markdown",
   "id": "aeb1fb6b",
   "metadata": {},
   "source": [
    "## Phenomena"
   ]
  },
  {
   "cell_type": "markdown",
   "id": "4ff2961d",
   "metadata": {},
   "source": [
    "What phenomenon are you modeling? Provide a brief background on the topic, including definitions and details that are relevant to your analysis. Clearly describe its main features, and support those claims with data where appropriate. (10/100 pts)"
   ]
  },
  {
   "cell_type": "markdown",
   "id": "3d2c3cc1",
   "metadata": {},
   "source": [
    "## Describe Your Non-Parametric Model"
   ]
  },
  {
   "cell_type": "markdown",
   "id": "b90dc3e8",
   "metadata": {},
   "source": [
    "Describe your non-parametric model (empirical cumulative distribution functions, kernel density function, local constant least squares regression, Markov transition models). How are you fitting your model to the phenomenon to get realistic properties of the data? What challenges did you have to overcome? (15/100 pts)"
   ]
  },
  {
   "cell_type": "markdown",
   "id": "c75f144c",
   "metadata": {},
   "source": [
    "remember to cut the gordian knot. don't stay stuck."
   ]
  },
  {
   "cell_type": "markdown",
   "id": "0de5ca06",
   "metadata": {},
   "source": [
    "IDEA: markov chain. plot of civilian deaths?"
   ]
  },
  {
   "cell_type": "markdown",
   "id": "c6195541",
   "metadata": {},
   "source": [
    "## Use model/Bootstrap"
   ]
  },
  {
   "cell_type": "markdown",
   "id": "686503bd",
   "metadata": {},
   "source": [
    "Either use your model to create new sequences (if the model is more generative) or bootstrap a quantity of interest (if the model is more inferential). (15/100 pts)"
   ]
  },
  {
   "cell_type": "markdown",
   "id": "807e1f7e",
   "metadata": {},
   "source": [
    "## Critical Evaluation"
   ]
  },
  {
   "cell_type": "markdown",
   "id": "04069940",
   "metadata": {},
   "source": [
    "Critically evaluate your work in part 4. Do your sequences have the properties of the training data, and if not, why not? Are your estimates credible and reliable, or is there substantial uncertainty in your results? (15/100 pts)"
   ]
  },
  {
   "cell_type": "markdown",
   "id": "318701dd",
   "metadata": {},
   "source": [
    "## Conclusion"
   ]
  },
  {
   "cell_type": "markdown",
   "id": "717dabdb",
   "metadata": {},
   "source": [
    "Write a conclusion that explains the limitations of your analysis and potential for future work on this topic. (10/100 pts)"
   ]
  },
  {
   "cell_type": "markdown",
   "id": "1a04c15e",
   "metadata": {},
   "source": [
    "# Other\n",
    "\n",
    "In addition, submit a GitHub repo containing your code and a description of how to obtain the original data from the source. Make sure the code is commented, where appropriate. Include a .gitignore file. We will look at your commit history briefly to determine whether everyone in the group contributed. (10/100 pts)\n",
    "\n",
    "In class, we'll briefly do presentations and criticize each other's work, and participation in your group's presentation and constructively critiquing the other groups' presentations accounts for the remaining 15/100 pts."
   ]
  }
 ],
 "metadata": {
  "kernelspec": {
   "display_name": "base",
   "language": "python",
   "name": "python3"
  },
  "language_info": {
   "codemirror_mode": {
    "name": "ipython",
    "version": 3
   },
   "file_extension": ".py",
   "mimetype": "text/x-python",
   "name": "python",
   "nbconvert_exporter": "python",
   "pygments_lexer": "ipython3",
   "version": "3.13.2"
  }
 },
 "nbformat": 4,
 "nbformat_minor": 5
}
